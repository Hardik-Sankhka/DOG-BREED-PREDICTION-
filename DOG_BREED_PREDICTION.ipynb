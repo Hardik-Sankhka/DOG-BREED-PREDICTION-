{
  "nbformat": 4,
  "nbformat_minor": 0,
  "metadata": {
    "colab": {
      "private_outputs": true,
      "provenance": [],
      "authorship_tag": "ABX9TyM6WWTQejwsg2IinJpA/ApD",
      "include_colab_link": true
    },
    "kernelspec": {
      "name": "python3",
      "display_name": "Python 3"
    },
    "language_info": {
      "name": "python"
    },
    "gpuClass": "standard"
  },
  "cells": [
    {
      "cell_type": "markdown",
      "metadata": {
        "id": "view-in-github",
        "colab_type": "text"
      },
      "source": [
        "<a href=\"https://colab.research.google.com/github/Hardik-Sankhka/DOG-BREED-PREDICTION-/blob/main/DOG_BREED_PREDICTION.ipynb\" target=\"_parent\"><img src=\"https://colab.research.google.com/assets/colab-badge.svg\" alt=\"Open In Colab\"/></a>"
      ]
    },
    {
      "cell_type": "markdown",
      "source": [
        "##Dog Breed Prediction"
      ],
      "metadata": {
        "id": "F0JiJVCnYLL0"
      }
    },
    {
      "cell_type": "markdown",
      "source": [
        "####In this project, we will see how to use Keras and TensorFlow to build, train, and test a Convolutional Neural Network capable of identifying the breed of a dog in a supplied image. This is a supervised learning problem, specifically a multiclass classification problem."
      ],
      "metadata": {
        "id": "Tus6McVeYOrk"
      }
    },
    {
      "cell_type": "code",
      "execution_count": null,
      "metadata": {
        "id": "5dTFJJtxYIi8"
      },
      "outputs": [],
      "source": [
        "# Run this cell and select the kaggle.json file downloaded\n",
        "# from the Kaggle account settings page.\n",
        "from google.colab import files\n",
        "files.upload()"
      ]
    },
    {
      "cell_type": "markdown",
      "source": [
        "####We will start by connecting to Kaggle using Kaggle API which can be downloaded from your Kaggle account's settings and uploading it here(upload box)."
      ],
      "metadata": {
        "id": "KUPZ7g9yYhZ-"
      }
    },
    {
      "cell_type": "code",
      "source": [
        "# Next, install the Kaggle API client.\n",
        "!pip install -q kaggle"
      ],
      "metadata": {
        "id": "pOBXAnCEYkxJ"
      },
      "execution_count": null,
      "outputs": []
    },
    {
      "cell_type": "markdown",
      "source": [
        "####Next we will install Kaggle API using pip installation."
      ],
      "metadata": {
        "id": "cwxmVWIRYj54"
      }
    },
    {
      "cell_type": "code",
      "source": [
        "# The Kaggle API client expects this file to be in ~/.kaggle, so move it there.\n",
        "!mkdir -p ~/.kaggle\n",
        "!cp kaggle.json ~/.kaggle/\n",
        "\n",
        "# This permissions change avoids a warning on Kaggle tool startup.\n",
        "!chmod 600 ~/.kaggle/kaggle.json"
      ],
      "metadata": {
        "id": "FPvhjoUvYuZV"
      },
      "execution_count": null,
      "outputs": []
    },
    {
      "cell_type": "markdown",
      "source": [
        "####Setting up Kaggle using Kaggle API."
      ],
      "metadata": {
        "id": "5HT1AqOrY1rI"
      }
    },
    {
      "cell_type": "code",
      "source": [
        "# Creating directory and changing the current working directory\n",
        "!mkdir dog_dataset\n",
        "%cd dog_dataset"
      ],
      "metadata": {
        "id": "iHSVocLRY5yX"
      },
      "execution_count": null,
      "outputs": []
    },
    {
      "cell_type": "markdown",
      "source": [
        "####To store the data we will create a new directory and make it as current working directory."
      ],
      "metadata": {
        "id": "j44ZY5WtZAKM"
      }
    },
    {
      "cell_type": "code",
      "source": [
        "# Searching for dataset\n",
        "!kaggle datasets list -s dogbreedidfromcomp"
      ],
      "metadata": {
        "id": "Fx8spmS4ZBsR"
      },
      "execution_count": null,
      "outputs": []
    },
    {
      "cell_type": "markdown",
      "source": [
        "####Searching Kaggle for the required dataset using search option(-s) with title 'dogbreedidfromcomp'. We can also use different search options like searching competitions, notebooks, kernels, datasets, etc."
      ],
      "metadata": {
        "id": "t1dFfH56ZH7F"
      }
    },
    {
      "cell_type": "code",
      "source": [
        "# Downloading dataset and coming out of directory\n",
        "!kaggle datasets download catherinehorng/dogbreedidfromcomp\n",
        "%cd .."
      ],
      "metadata": {
        "id": "GQIYv0U_ZJsb"
      },
      "execution_count": null,
      "outputs": []
    },
    {
      "cell_type": "markdown",
      "source": [
        "####After searching the data next step would be downloading the data into collab notebook using references found in search option."
      ],
      "metadata": {
        "id": "5rHPbYRkZQ0z"
      }
    },
    {
      "cell_type": "code",
      "source": [
        "# Unzipping downloaded file and removing unusable file\n",
        "!unzip dog_dataset/dogbreedidfromcomp.zip -d dog_dataset\n",
        "!rm dog_dataset/dogbreedidfromcomp.zip\n",
        "!rm dog_dataset/sample_submission.csv"
      ],
      "metadata": {
        "id": "LP1sZNQQZSU_"
      },
      "execution_count": null,
      "outputs": []
    },
    {
      "cell_type": "markdown",
      "source": [
        "####We will unzip the data which is downloaded and remove the irrelevant files."
      ],
      "metadata": {
        "id": "6CxEndzFZYAR"
      }
    },
    {
      "cell_type": "code",
      "source": [
        "# Important library imports\n",
        "import numpy as np \n",
        "import pandas as pd \n",
        "import matplotlib.pyplot as plt\n",
        "\n",
        "from tqdm import tqdm\n",
        "from keras.preprocessing import image\n",
        "from sklearn.preprocessing import label_binarize\n",
        "from sklearn.model_selection import train_test_split\n",
        "from keras.models import Sequential\n",
        "from keras.layers import Dense, Dropout, Flatten, Conv2D, MaxPool2D\n",
        "from keras.optimizers import Adam\n",
        "from tensorflow.keras.preprocessing import image"
      ],
      "metadata": {
        "id": "K9qL_bs0ZcUv"
      },
      "execution_count": null,
      "outputs": []
    },
    {
      "cell_type": "markdown",
      "source": [
        "####Importing required libraries."
      ],
      "metadata": {
        "id": "MyCiDy_CZwei"
      }
    },
    {
      "cell_type": "code",
      "source": [
        "# Read the labels.csv file and checking shape and records\n",
        "labels_all = pd.read_csv(\"dog_dataset/labels.csv\")\n",
        "print(labels_all.shape)\n",
        "labels_all.head()"
      ],
      "metadata": {
        "id": "tpn93CkaZzoo"
      },
      "execution_count": null,
      "outputs": []
    },
    {
      "cell_type": "markdown",
      "source": [
        "####Loading the labels data into dataframe and viewing it. Here we analysed that labels contains 10222 rows and 2 columns."
      ],
      "metadata": {
        "id": "Nd4pJRjwZ2s0"
      }
    },
    {
      "cell_type": "code",
      "source": [
        "# Visualize the number of each breeds\n",
        "breeds_all = labels_all[\"breed\"]\n",
        "breed_counts = breeds_all.value_counts()\n",
        "breed_counts.head()"
      ],
      "metadata": {
        "id": "Yk-te41zZ6pn"
      },
      "execution_count": null,
      "outputs": []
    },
    {
      "cell_type": "markdown",
      "source": [
        "####Here we are finding out the count per class i.e. total data in each class using value_counts() function."
      ],
      "metadata": {
        "id": "3EkvL61nZ-CP"
      }
    },
    {
      "cell_type": "code",
      "source": [
        "# Selecting first 3 breeds (Limitation due to computation power)\n",
        "CLASS_NAMES = ['scottish_deerhound','maltese_dog','bernese_mountain_dog']\n",
        "labels = labels_all[(labels_all['breed'].isin(CLASS_NAMES))]\n",
        "labels = labels.reset_index()\n",
        "labels.head()"
      ],
      "metadata": {
        "id": "poy18fuSaCjc"
      },
      "execution_count": null,
      "outputs": []
    },
    {
      "cell_type": "markdown",
      "source": [
        "####We will work on only 3 breeds due to limited computational power. You can consider more classes as per your system computational power."
      ],
      "metadata": {
        "id": "14zSIrFkaI78"
      }
    },
    {
      "cell_type": "code",
      "source": [
        "# Creating numpy matrix with zeros\n",
        "X_data = np.zeros((len(labels), 224, 224, 3), dtype='float32')\n",
        "# One hot encoding\n",
        "Y_data = label_binarize(labels['breed'], classes = CLASS_NAMES)\n",
        "\n",
        "# Reading and converting image to numpy array and normalizing dataset\n",
        "for i in tqdm(range(len(labels))):\n",
        "    img = image.load_img('dog_dataset/train/%s.jpg' % labels['id'][i], target_size=(224, 224))\n",
        "    img = image.img_to_array(img)\n",
        "    x = np.expand_dims(img.copy(), axis=0)\n",
        "    X_data[i] = x / 255.0\n",
        "    \n",
        "# Printing train image and one hot encode shape & size\n",
        "print('\\nTrain Images shape: ',X_data.shape,' size: {:,}'.format(X_data.size))\n",
        "print('One-hot encoded output shape: ',Y_data.shape,' size: {:,}'.format(Y_data.size))"
      ],
      "metadata": {
        "id": "hts0ncP9aLLY"
      },
      "execution_count": null,
      "outputs": []
    },
    {
      "cell_type": "markdown",
      "source": [
        "####As we are working with the classification dataset first we need to one hot encode the target value i.e. the classes. After that we will read images and convert them into numpy array and finally normalizing the array."
      ],
      "metadata": {
        "id": "igZUWkf-aR75"
      }
    },
    {
      "cell_type": "code",
      "source": [
        "# Building the Model\n",
        "model = Sequential()\n",
        "\n",
        "model.add(Conv2D(filters = 64, kernel_size = (5,5), activation ='relu', input_shape = (224,224,3)))\n",
        "model.add(MaxPool2D(pool_size=(2,2)))\n",
        "\n",
        "model.add(Conv2D(filters = 32, kernel_size = (3,3), activation ='relu', kernel_regularizer = 'l2'))\n",
        "model.add(MaxPool2D(pool_size=(2,2)))\n",
        "\n",
        "model.add(Conv2D(filters = 16, kernel_size = (7,7), activation ='relu', kernel_regularizer = 'l2'))\n",
        "model.add(MaxPool2D(pool_size=(2,2)))\n",
        "\n",
        "model.add(Conv2D(filters = 8, kernel_size = (5,5), activation ='relu', kernel_regularizer = 'l2'))\n",
        "model.add(MaxPool2D(pool_size=(2,2)))\n",
        "\n",
        "model.add(Flatten())\n",
        "model.add(Dense(128, activation = \"relu\", kernel_regularizer = 'l2'))\n",
        "model.add(Dense(64, activation = \"relu\", kernel_regularizer = 'l2'))\n",
        "model.add(Dense(len(CLASS_NAMES), activation = \"softmax\"))\n",
        "\n",
        "model.compile(loss = 'categorical_crossentropy', optimizer = Adam(0.0001),metrics=['accuracy'])\n",
        "\n",
        "model.summary()"
      ],
      "metadata": {
        "id": "4VINFx8-aTXg"
      },
      "execution_count": null,
      "outputs": []
    },
    {
      "cell_type": "markdown",
      "source": [
        "####Next we will create a network architecture for the model. We have used different types of layers according to their features namely Conv_2d (It is used to create a convolutional kernel that is convolved with the input layer to produce the output tensor), max_pooling2d (It is a downsampling technique which takes out the maximum value over the window defined by poolsize), flatten (It flattens the input and creates a 1D output), Dense (Dense layer produce the output as the dot product of input and kernel)."
      ],
      "metadata": {
        "id": "v5TSerN3aa4B"
      }
    },
    {
      "cell_type": "markdown",
      "source": [
        "####After defining the network architecture we found out the total parameters as 162,619."
      ],
      "metadata": {
        "id": "wcXeBuowae9j"
      }
    },
    {
      "cell_type": "code",
      "source": [
        "# Splitting the data set into training and testing data sets\n",
        "X_train_and_val, X_test, Y_train_and_val, Y_test = train_test_split(X_data, Y_data, test_size = 0.1)\n",
        "# Splitting the training data set into training and validation data sets\n",
        "X_train, X_val, Y_train, Y_val = train_test_split(X_train_and_val, Y_train_and_val, test_size = 0.2)"
      ],
      "metadata": {
        "id": "49WVjza0alEw"
      },
      "execution_count": null,
      "outputs": []
    },
    {
      "cell_type": "markdown",
      "source": [
        "####After defining the network architecture we will start with splitting the test and train data then dividing train data in train and validation data."
      ],
      "metadata": {
        "id": "FTfHMY11apij"
      }
    },
    {
      "cell_type": "code",
      "source": [
        "# Training the model\n",
        "epochs = 100\n",
        "batch_size = 128\n",
        "\n",
        "history = model.fit(X_train, Y_train, batch_size = batch_size, epochs = epochs, \n",
        "                    validation_data = (X_val, Y_val))"
      ],
      "metadata": {
        "id": "J5oJysNfcwri"
      },
      "execution_count": null,
      "outputs": []
    },
    {
      "cell_type": "markdown",
      "source": [
        "####Now we will train our model on 100 epochs and a batch size of 128. You can try using more number of epochs to increase accuracy. During each epochs we can see how the model is performing by viewing the training and validation accuracy."
      ],
      "metadata": {
        "id": "lK-qG-izmC44"
      }
    },
    {
      "cell_type": "code",
      "source": [
        "# Plot the training history\n",
        "plt.figure(figsize=(12, 5))\n",
        "plt.plot(history.history['accuracy'], color='r')\n",
        "plt.plot(history.history['val_accuracy'], color='b')\n",
        "plt.title('Model Accuracy')\n",
        "plt.ylabel('Accuracy')\n",
        "plt.xlabel('Epochs')\n",
        "plt.legend(['train', 'val'])\n",
        "\n",
        "plt.show()"
      ],
      "metadata": {
        "id": "GE8MEILSmIbm"
      },
      "execution_count": null,
      "outputs": []
    },
    {
      "cell_type": "markdown",
      "source": [
        "####Here we analyse how the model is learning with each epoch in terms of accuracy."
      ],
      "metadata": {
        "id": "jdDr1tOmmM6M"
      }
    },
    {
      "cell_type": "code",
      "source": [
        "Y_pred = model.predict(X_test)\n",
        "score = model.evaluate(X_test, Y_test)\n",
        "print('Accuracy over the test set: \\n ', round((score[1]*100), 2), '%')"
      ],
      "metadata": {
        "id": "4-9_JCo2mQpj"
      },
      "execution_count": null,
      "outputs": []
    },
    {
      "cell_type": "markdown",
      "source": [
        "####We will use predict function to make predictions using this model also we are finding out the accuracy on the test set."
      ],
      "metadata": {
        "id": "K5lFaAp7mYvc"
      }
    },
    {
      "cell_type": "code",
      "source": [
        "# Plotting image to compare\n",
        "plt.imshow(X_test[1,:,:,:])\n",
        "plt.show()\n",
        "\n",
        "# Finding max value from predition list and comaparing original value vs predicted\n",
        "print(\"Originally : \",labels['breed'][np.argmax(Y_test[1])])\n",
        "print(\"Predicted : \",labels['breed'][np.argmax(Y_pred[1])])"
      ],
      "metadata": {
        "id": "i58-JHE9masR"
      },
      "execution_count": null,
      "outputs": []
    },
    {
      "cell_type": "markdown",
      "source": [
        "####Here you can see image with its original and predicted label."
      ],
      "metadata": {
        "id": "V6THZkJjmu4t"
      }
    },
    {
      "cell_type": "markdown",
      "source": [
        "##Conclusion:"
      ],
      "metadata": {
        "id": "yAnQp2Ldmxy4"
      }
    },
    {
      "cell_type": "markdown",
      "source": [
        "####We started with downloading the dataset creating the model and finding out the predictions using the model. We can optimize different hyper parameters in order to tune this model for a higher accuracy. This model can be used to predict different breeds of dogs which can be further used by different NGO's working on saving animals and for educational purposes also."
      ],
      "metadata": {
        "id": "NGk_bYBbm2Ct"
      }
    },
    {
      "cell_type": "code",
      "source": [],
      "metadata": {
        "id": "iGl0W4Dsm7zi"
      },
      "execution_count": null,
      "outputs": []
    }
  ]
}